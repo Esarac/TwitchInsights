{
 "cells": [
  {
   "cell_type": "markdown",
   "metadata": {},
   "source": [
    "# Chat 💬 (Bronze &rarr; Silver)"
   ]
  },
  {
   "cell_type": "markdown",
   "metadata": {},
   "source": [
    "## Init"
   ]
  },
  {
   "cell_type": "markdown",
   "metadata": {},
   "source": [
    "Import dependencies"
   ]
  },
  {
   "cell_type": "code",
   "execution_count": null,
   "metadata": {},
   "outputs": [],
   "source": [
    "import findspark\n",
    "from decouple import Config, RepositoryEnv\n",
    "import nltk\n",
    "from nltk.sentiment.vader import SentimentIntensityAnalyzer\n",
    "from nltk.corpus import stopwords\n",
    "import pandas as pd"
   ]
  },
  {
   "cell_type": "code",
   "execution_count": null,
   "metadata": {},
   "outputs": [],
   "source": [
    "nltk.download('all')\n",
    "\n",
    "findspark.init()\n",
    "findspark.add_packages('mysql:mysql-connector-java:8.0.11')"
   ]
  },
  {
   "cell_type": "code",
   "execution_count": null,
   "metadata": {},
   "outputs": [],
   "source": [
    "from pyspark.sql import SparkSession\n",
    "from pyspark.sql.functions import *\n",
    "from pyspark.sql.types import *\n",
    "from pyspark.ml.feature import StopWordsRemover\n",
    "\n",
    "from pyspark.sql.functions import pandas_udf \n",
    "from pyspark import Row "
   ]
  },
  {
   "cell_type": "markdown",
   "metadata": {},
   "source": [
    "Get *.env* values"
   ]
  },
  {
   "cell_type": "code",
   "execution_count": null,
   "metadata": {},
   "outputs": [],
   "source": [
    "# Env values\n",
    "# ENV_PATH = os.path.join(os.path.dirname(__file__), '../.env')\n",
    "env = Config(RepositoryEnv('../.env'))\n",
    "db_server = env.get('DB_IP')\n",
    "db_name = env.get('DB_DATABASE')\n",
    "db_user = env.get('DB_USERNAME')\n",
    "db_password = env.get('DB_PASSWORD')"
   ]
  },
  {
   "cell_type": "markdown",
   "metadata": {},
   "source": [
    "## Start"
   ]
  },
  {
   "cell_type": "markdown",
   "metadata": {},
   "source": [
    "Create Spark session"
   ]
  },
  {
   "cell_type": "code",
   "execution_count": null,
   "metadata": {},
   "outputs": [],
   "source": [
    "spark = SparkSession.builder \\\n",
    "    .appName(\"PySpark SQL Server Connection\") \\\n",
    "    .getOrCreate()\n",
    "\n",
    "# .config(\"spark.jars\", \"file:///C:/spark-3.4.1-bin-hadoop3/jars/mssql-jdbc-12.6.1.jre8.jar\") \\"
   ]
  },
  {
   "cell_type": "markdown",
   "metadata": {},
   "source": [
    "Start database connection and data **extraction** from bronze table"
   ]
  },
  {
   "cell_type": "code",
   "execution_count": null,
   "metadata": {},
   "outputs": [],
   "source": [
    "jdbc_url = f\"jdbc:sqlserver://{db_server};databaseName={db_name};user={db_user};password={db_password};encrypt=true;trustServerCertificate=true;\"\n",
    "db_table = \"Twitch.MessagesStg\"\n",
    "\n",
    "employees_df = spark.read \\\n",
    "    .format(\"jdbc\") \\\n",
    "    .option(\"url\", jdbc_url) \\\n",
    "    .option(\"dbtable\", db_table) \\\n",
    "    .load()\n",
    "\n",
    "employees_df.show(truncate=False)"
   ]
  },
  {
   "cell_type": "markdown",
   "metadata": {},
   "source": [
    "**Transform** data"
   ]
  },
  {
   "cell_type": "code",
   "execution_count": null,
   "metadata": {},
   "outputs": [],
   "source": [
    "SPLIT_SEPARATOR = \"SPLIT-SEPARATOR\"\n",
    "# Remove all line breaks\n",
    "e1_df = employees_df.withColumn('MsgResponse',regexp_replace(col('MsgResponse'),'\\r\\n',' '))\n",
    "# Add a key word at the begining of each command to then know where do we need to split\n",
    "e1_df = e1_df.withColumn(\"MsgResponse\", regexp_replace(col('MsgResponse'), '(:[^:!]+![^!@]+@[^@.]+\\.tmi\\.twitch\\.tv PRIVMSG)(?!$)',  f\"{SPLIT_SEPARATOR}\"+r\"$1\"))\n",
    "e1_df = e1_df.withColumn(\"MessageResponseSplit\", split(col('MsgResponse'),SPLIT_SEPARATOR))\n",
    "# Remove first element of split list (empty element)\n",
    "e1_df = e1_df.withColumn(\"MessageResponseSplit\", expr(\"slice(MessageResponseSplit, 2, SIZE(MessageResponseSplit))\"))\n",
    "# Create a row for each element\n",
    "e1_df = e1_df.withColumn(\"MsgResponse\", explode(col('MessageResponseSplit')))\n",
    "\n",
    "# Split to get each section of the command\n",
    "splitted_col = split(e1_df['MsgResponse'],' ')\n",
    "\n",
    "e1_df = e1_df.withColumn('Username', regexp_extract(splitted_col.getItem(0), ':(.*)!', 1))\n",
    "e1_df = e1_df.withColumn('Command', splitted_col.getItem(1))\n",
    "e1_df = e1_df.withColumn('Channel', regexp_replace(splitted_col.getItem(2),'#',''))\n",
    "e1_df = e1_df.withColumn('MsgResponseMeta', concat_ws(' ',splitted_col.getItem(0),splitted_col.getItem(1),splitted_col.getItem(2),lit(':'))) # Aux\n",
    "e1_df = e1_df.withColumn('Message', regexp_replace(col('MsgResponse'),col('MsgResponseMeta'),' '))\n",
    "\n",
    "# e1_df = e1_df.withColumn('Tag', regexp_extract(col('Message'), '@(.*) ', 1))\n",
    "\n",
    "# Drop columns that are not needed\n",
    "e1_df = e1_df.drop('Id','MsgResponse','MessageResponseSplit','MsgResponseMeta')\n",
    "\n",
    "e1_df.show(truncate=False)"
   ]
  },
  {
   "cell_type": "code",
   "execution_count": null,
   "metadata": {},
   "outputs": [],
   "source": [
    "# Keep only the command that are chat related ('PRIVMSG') and generate an id for each record\n",
    "e2_df = e1_df \\\n",
    "    .where(col('Command')=='PRIVMSG') \\\n",
    "    .withColumn(\"Id\", monotonically_increasing_id()) \\\n",
    "    .select(col('Id'), col('Date'), col('Username'), col('Command'), col('Channel'), col('Message'))\n",
    "\n",
    "e2_df.show(truncate=False)"
   ]
  },
  {
   "cell_type": "code",
   "execution_count": null,
   "metadata": {},
   "outputs": [],
   "source": [
    "# UDF for sentiment analysis\n",
    "analyzer = SentimentIntensityAnalyzer()\n",
    "@pandas_udf('float')  \n",
    "def sentiment_analysis(s: pd.Series) -> pd.Series:\n",
    "  return s.apply(lambda msg: analyzer.polarity_scores(msg)['compound'])\n",
    "\n",
    "# Tokenize words\n",
    "e3_df = e2_df.withColumn(\"MessageClean1\", split(lower(col(\"Message\")),' '))\n",
    "\n",
    "# Remove Stop Words\n",
    "sw_remover = StopWordsRemover(stopWords=stopwords.words('spanish') + stopwords.words('english'))\n",
    "sw_remover.setInputCols([\"MessageClean1\"]).setOutputCols([\"MessageClean2\"])\n",
    "\n",
    "e3_df = sw_remover.transform(e3_df).withColumn('MessageClean2', concat_ws(' ', col('MessageClean2')))\n",
    "\n",
    "# Get sentiment analysis score with VADER dict\n",
    "e3_df = e3_df.withColumn('SentimentScore',sentiment_analysis(col('MessageClean2')))\n",
    "\n",
    "# Drop columns that are not needed\n",
    "e3_df = e3_df.drop('MessageClean1','MessageClean2')\n",
    "\n",
    "e3_df.show(truncate=False)"
   ]
  },
  {
   "cell_type": "code",
   "execution_count": null,
   "metadata": {},
   "outputs": [],
   "source": [
    "# Need to fix jars\n",
    "# from sparknlp.pretrained import PretrainedPipeline \n",
    "# pipeline = PretrainedPipeline(\"translate_es_en\", lang = \"xx\") \n",
    "# pipeline.annotate(\"Your sentence to translate!\")"
   ]
  },
  {
   "cell_type": "markdown",
   "metadata": {},
   "source": [
    "**Load** data into database silver table"
   ]
  },
  {
   "cell_type": "code",
   "execution_count": null,
   "metadata": {},
   "outputs": [],
   "source": [
    "output_table = 'Twitch.MessagesRef'\n",
    "\n",
    "e3_df.write \\\n",
    "  .format(\"jdbc\") \\\n",
    "  .mode(\"overwrite\") \\\n",
    "  .option(\"driver\", \"com.microsoft.sqlserver.jdbc.SQLServerDriver\") \\\n",
    "  .option(\"url\", jdbc_url) \\\n",
    "  .option(\"dbtable\", output_table) \\\n",
    "  .save() "
   ]
  },
  {
   "cell_type": "markdown",
   "metadata": {},
   "source": [
    "Stop Spark session"
   ]
  },
  {
   "cell_type": "code",
   "execution_count": null,
   "metadata": {},
   "outputs": [],
   "source": [
    "spark.stop()"
   ]
  }
 ],
 "metadata": {
  "kernelspec": {
   "display_name": "Python 3",
   "language": "python",
   "name": "python3"
  },
  "language_info": {
   "codemirror_mode": {
    "name": "ipython",
    "version": 3
   },
   "file_extension": ".py",
   "mimetype": "text/x-python",
   "name": "python",
   "nbconvert_exporter": "python",
   "pygments_lexer": "ipython3",
   "version": "3.11.3"
  }
 },
 "nbformat": 4,
 "nbformat_minor": 2
}
